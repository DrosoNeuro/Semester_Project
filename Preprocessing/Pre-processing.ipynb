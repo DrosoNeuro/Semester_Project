{
 "cells": [
  {
   "cell_type": "markdown",
   "metadata": {},
   "source": [
    "### Reducing size of dataset\n",
    "\n",
    "We will start by only keeping the tweet ID, timestamp, text, long-lat (3 possibilities), geo/location/place\n",
    "\n",
    "Geo: [long, lat]\n",
    "\n",
    "Location: [long, lat]\n",
    "\n",
    "Place: [[[long, lat],[long, lat]], [[long, lat], [long, lat]]]"
   ]
  },
  {
   "cell_type": "code",
   "execution_count": 1,
   "metadata": {},
   "outputs": [
    {
     "name": "stdout",
     "output_type": "stream",
     "text": [
      "Processing Data/tweets.txt.2011-04-27_12.gz\n",
      "Processing Data/tweets.txt.2011-04-27_10.gz\n",
      "Processing Data/tweets.txt.2011-04-27_09.gz\n",
      "Processing Data/tweets.txt.2011-04-27_14.gz\n",
      "Processing Data/tweets.txt.2011-04-27_07.gz\n",
      "Processing Data/tweets.txt.2011-04-27_17.gz\n",
      "Processing Data/tweets.txt.2011-04-27_16.gz\n",
      "Processing Data/tweets.txt.2011-04-27_15.gz\n",
      "Processing Data/tweets.txt.2011-04-27_18.gz\n",
      "Processing Data/tweets.txt.2011-04-27_20.gz\n",
      "Processing Data/tweets.txt.2011-04-27_13.gz\n",
      "Processing Data/tweets.txt.2011-04-27_08.gz\n",
      "Processing Data/tweets.txt.2011-04-27_19.gz\n",
      "Processing Data/tweets.txt.2011-04-27_11.gz\n",
      "Processing Data/tweets.txt.2011-04-27_22.gz\n",
      "Processing Data/tweets.txt.2011-04-27_21.gz\n",
      "Processing Data/tweets.txt.2011-04-27_23.gz\n",
      "going to save\n",
      "Finished Data/tweets.txt.2011-04-27_07.gz\n",
      "going to save\n",
      "Finished Data/tweets.txt.2011-04-27_08.gz\n",
      "going to save\n",
      "going to save\n",
      "Finished Data/tweets.txt.2011-04-27_09.gz\n",
      "going to save\n",
      "going to save\n",
      "Finished Data/tweets.txt.2011-04-27_10.gz\n",
      "going to save\n",
      "going to save\n",
      "going to save\n",
      "Finished Data/tweets.txt.2011-04-27_11.gz\n",
      "Finished Data/tweets.txt.2011-04-27_12.gz\n",
      "going to save\n",
      "going to save\n",
      "Finished Data/tweets.txt.2011-04-27_14.gz\n",
      "Finished Data/tweets.txt.2011-04-27_13.gz\n",
      "going to save\n",
      "Finished Data/tweets.txt.2011-04-27_15.gz\n",
      "Finished Data/tweets.txt.2011-04-27_17.gz\n",
      "Finished Data/tweets.txt.2011-04-27_16.gz\n",
      "going to save\n",
      "going to save\n",
      "Finished Data/tweets.txt.2011-04-27_18.gz\n",
      "Finished Data/tweets.txt.2011-04-27_23.gz\n",
      "going to save\n",
      "Finished Data/tweets.txt.2011-04-27_19.gz\n",
      "going to save\n",
      "going to save\n",
      "Finished Data/tweets.txt.2011-04-27_20.gz\n",
      "Finished Data/tweets.txt.2011-04-27_22.gz\n",
      "Finished Data/tweets.txt.2011-04-27_21.gz\n"
     ]
    }
   ],
   "source": [
    "from filter import run_all\n",
    "# Run on the data of one day for testing purposes\n",
    "run_all(\"Data\")"
   ]
  },
  {
   "cell_type": "markdown",
   "metadata": {
    "collapsed": true
   },
   "source": [
    "### Reverse Geolocation\n",
    "\n",
    "We will now try to find the state and city from the longitude and latitude \n",
    "\n",
    "There will be three possible long-lat data, will need to work with that\n",
    "\n",
    "For the places object --> We have a bounding box, but usually it's four times the same long-lat, we will for now focus on one point only"
   ]
  },
  {
   "cell_type": "code",
   "execution_count": null,
   "metadata": {
    "collapsed": true
   },
   "outputs": [],
   "source": []
  }
 ],
 "metadata": {
  "anaconda-cloud": {},
  "kernelspec": {
   "display_name": "Python 3",
   "language": "python",
   "name": "python3"
  },
  "language_info": {
   "codemirror_mode": {
    "name": "ipython",
    "version": 3
   },
   "file_extension": ".py",
   "mimetype": "text/x-python",
   "name": "python",
   "nbconvert_exporter": "python",
   "pygments_lexer": "ipython3",
   "version": "3.5.4"
  }
 },
 "nbformat": 4,
 "nbformat_minor": 2
}
