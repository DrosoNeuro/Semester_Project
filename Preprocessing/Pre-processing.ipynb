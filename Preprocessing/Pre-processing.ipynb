{
 "cells": [
  {
   "cell_type": "markdown",
   "metadata": {},
   "source": [
    "We will write here the different steps done to do the preprocessing of the Twitter data"
   ]
  },
  {
   "cell_type": "code",
   "execution_count": 6,
   "metadata": {
    "collapsed": false
   },
   "outputs": [
    {
     "name": "stdout",
     "output_type": "stream",
     "text": [
      "Processing Data/tweets.txt.2011-04-27_09.gz\n",
      "Processing Data/tweets.txt.2011-04-27_07.gz\n",
      "Processing Data/tweets.txt.2011-04-27_08.gz\n",
      "Processing Data/tweets.txt.2011-04-27_10.gz\n",
      "Processing Data/tweets.txt.2011-04-27_11.gz\n",
      "Processing Data/tweets.txt.2011-04-27_12.gz\n",
      "Error in Data/tweets.txt.2011-04-27_09.gz\n",
      "Processing Data/tweets.txt.2011-04-27_13.gz\n",
      "Error in Data/tweets.txt.2011-04-27_07.gz\n",
      "Processing Data/tweets.txt.2011-04-27_14.gz\n",
      "Error in Data/tweets.txt.2011-04-27_08.gz\n",
      "Error in Data/tweets.txt.2011-04-27_11.gz\n",
      "Error in Data/tweets.txt.2011-04-27_10.gz\n",
      "Error in Data/tweets.txt.2011-04-27_12.gz\n",
      "Finished Data/tweets.txt.2011-04-27_08.gz\n",
      "Finished Data/tweets.txt.2011-04-27_12.gz\n",
      "Finished Data/tweets.txt.2011-04-27_09.gz\n",
      "Finished Data/tweets.txt.2011-04-27_11.gz\n",
      "Finished Data/tweets.txt.2011-04-27_07.gz\n",
      "Error in Data/tweets.txt.2011-04-27_13.gz\n",
      "Finished Data/tweets.txt.2011-04-27_10.gz\n",
      "Error in Data/tweets.txt.2011-04-27_14.gz\n",
      "Processing Data/tweets.txt.2011-04-27_15.gz\n",
      "Processing Data/tweets.txt.2011-04-27_16.gz\n",
      "Processing Data/tweets.txt.2011-04-27_17.gz\n",
      "Processing Data/tweets.txt.2011-04-27_19.gz\n",
      "Processing Data/tweets.txt.2011-04-27_18.gz\n",
      "Finished Data/tweets.txt.2011-04-27_14.gz\n",
      "Finished Data/tweets.txt.2011-04-27_13.gz\n",
      "Processing Data/tweets.txt.2011-04-27_20.gz\n",
      "Error in Data/tweets.txt.2011-04-27_20.gz\n",
      "Processing Data/tweets.txt.2011-04-27_21.gz\n",
      "Processing Data/tweets.txt.2011-04-27_22.gz\n",
      "Error in Data/tweets.txt.2011-04-27_18.gz\n",
      "Error in Data/tweets.txt.2011-04-27_19.gz\n",
      "Error in Data/tweets.txt.2011-04-27_15.gz\n",
      "Error in Data/tweets.txt.2011-04-27_16.gz\n",
      "Error in Data/tweets.txt.2011-04-27_17.gz\n",
      "Error in Data/tweets.txt.2011-04-27_21.gz\n",
      "Error in Data/tweets.txt.2011-04-27_22.gz\n",
      "Finished Data/tweets.txt.2011-04-27_18.gz\n",
      "Finished Data/tweets.txt.2011-04-27_20.gz\n",
      "Finished Data/tweets.txt.2011-04-27_16.gz\n",
      "Finished Data/tweets.txt.2011-04-27_19.gz\n",
      "Finished Data/tweets.txt.2011-04-27_15.gz\n",
      "Finished Data/tweets.txt.2011-04-27_17.gz\n",
      "Finished Data/tweets.txt.2011-04-27_22.gz\n",
      "Finished Data/tweets.txt.2011-04-27_21.gz\n",
      "Processing Data/tweets.txt.2011-04-27_23.gz\n",
      "Error in Data/tweets.txt.2011-04-27_23.gz\n",
      "Finished Data/tweets.txt.2011-04-27_23.gz\n"
     ]
    }
   ],
   "source": [
    "from filter import run_all\n",
    "# Simple test now on a smaller dataset (only one month)\n",
    "run_all(\"Data\")"
   ]
  },
  {
   "cell_type": "code",
   "execution_count": null,
   "metadata": {
    "collapsed": true
   },
   "outputs": [],
   "source": []
  }
 ],
 "metadata": {
  "kernelspec": {
   "display_name": "Python 3",
   "language": "python",
   "name": "python3"
  },
  "language_info": {
   "codemirror_mode": {
    "name": "ipython",
    "version": 3
   },
   "file_extension": ".py",
   "mimetype": "text/x-python",
   "name": "python",
   "nbconvert_exporter": "python",
   "pygments_lexer": "ipython3",
   "version": "3.6.0"
  }
 },
 "nbformat": 4,
 "nbformat_minor": 2
}
